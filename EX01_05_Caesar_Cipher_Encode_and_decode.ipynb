{
  "nbformat": 4,
  "nbformat_minor": 0,
  "metadata": {
    "colab": {
      "provenance": [],
      "authorship_tag": "ABX9TyMZJ/UEJA0xX/G65Tv3asDe",
      "include_colab_link": true
    },
    "kernelspec": {
      "name": "python3",
      "display_name": "Python 3"
    },
    "language_info": {
      "name": "python"
    }
  },
  "cells": [
    {
      "cell_type": "markdown",
      "metadata": {
        "id": "view-in-github",
        "colab_type": "text"
      },
      "source": [
        "<a href=\"https://colab.research.google.com/github/gracee331/graczzz/blob/main/EX01_05_Caesar_Cipher_Encode_and_decode.ipynb\" target=\"_parent\"><img src=\"https://colab.research.google.com/assets/colab-badge.svg\" alt=\"Open In Colab\"/></a>"
      ]
    },
    {
      "cell_type": "code",
      "execution_count": null,
      "metadata": {
        "id": "O9heAlC9Y6qp"
      },
      "outputs": [],
      "source": [
        "act=input()\n",
        "txt=input()\n",
        "\n",
        "act_type=act[0]\n",
        "key=int(act[1:])\n",
        "ntxt=''\n",
        "\n",
        "if act_type=='d':\n",
        "    for c in txt:\n",
        "        nc=ord(c)-key\n",
        "        ntxt=ntxt+chr(nc)\n",
        "else:\n",
        "    for c in txt:\n",
        "        nc=ord(c)+key\n",
        "        ntxt=ntxt+chr(nc)\n",
        "\n",
        "print(ntxt)"
      ]
    }
  ]
}