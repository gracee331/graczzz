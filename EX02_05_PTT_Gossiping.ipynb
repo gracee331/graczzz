{
  "nbformat": 4,
  "nbformat_minor": 0,
  "metadata": {
    "colab": {
      "provenance": [],
      "authorship_tag": "ABX9TyMLVFPU8vPEelV8tBRhNg2b",
      "include_colab_link": true
    },
    "kernelspec": {
      "name": "python3",
      "display_name": "Python 3"
    },
    "language_info": {
      "name": "python"
    }
  },
  "cells": [
    {
      "cell_type": "markdown",
      "metadata": {
        "id": "view-in-github",
        "colab_type": "text"
      },
      "source": [
        "<a href=\"https://colab.research.google.com/github/gracee331/graczzz/blob/main/EX02_05_PTT_Gossiping.ipynb\" target=\"_parent\"><img src=\"https://colab.research.google.com/assets/colab-badge.svg\" alt=\"Open In Colab\"/></a>"
      ]
    },
    {
      "cell_type": "markdown",
      "source": [
        "https://www.ptt.cc/bbs/Gossiping/index.html"
      ],
      "metadata": {
        "id": "vsnLeTj_lPTq"
      }
    },
    {
      "cell_type": "markdown",
      "source": [
        "電影版單篇"
      ],
      "metadata": {
        "id": "tZCHRFdJlXpa"
      }
    },
    {
      "cell_type": "code",
      "execution_count": 2,
      "metadata": {
        "colab": {
          "base_uri": "https://localhost:8080/"
        },
        "id": "MH7zw_6UkvbL",
        "outputId": "8ead5f92-bc47-4f4c-b3aa-98e4fd276a20"
      },
      "outputs": [
        {
          "output_type": "execute_result",
          "data": {
            "text/plain": [
              "200"
            ]
          },
          "metadata": {},
          "execution_count": 2
        }
      ],
      "source": [
        "import requests\n",
        "from bs4 import BeautifulSoup\n",
        "\n",
        "url='https://www.ptt.cc/bbs/Movie/index.html'\n",
        "response=requests.get(url)\n",
        "response.status_code"
      ]
    },
    {
      "cell_type": "code",
      "source": [
        "soup=BeautifulSoup(response.text,'html.parser') #response.text是爬回來的內容\n",
        "soup.title"
      ],
      "metadata": {
        "colab": {
          "base_uri": "https://localhost:8080/"
        },
        "id": "eRwJOhTfmoqF",
        "outputId": "02bee1a3-02dc-4e78-ba18-ba7ff0ef8c2c"
      },
      "execution_count": 3,
      "outputs": [
        {
          "output_type": "execute_result",
          "data": {
            "text/plain": [
              "<title>看板 movie 文章列表 - 批踢踢實業坊</title>"
            ]
          },
          "metadata": {},
          "execution_count": 3
        }
      ]
    },
    {
      "cell_type": "code",
      "source": [
        "len(soup.find_all('div', class_='r-ent')) #確認這個網頁有四個r-ent"
      ],
      "metadata": {
        "colab": {
          "base_uri": "https://localhost:8080/"
        },
        "id": "zMEnMad1r7Ee",
        "outputId": "76837e15-b5a4-415d-91c5-c5a962501ba2"
      },
      "execution_count": 4,
      "outputs": [
        {
          "output_type": "execute_result",
          "data": {
            "text/plain": [
              "11"
            ]
          },
          "metadata": {},
          "execution_count": 4
        }
      ]
    },
    {
      "cell_type": "code",
      "source": [
        "for atcl in soup.find_all('div', class_='r-ent'):\n",
        "  ttle = atcl.find('div', class_='title').a.text  #text找內文標題\n",
        "  href = 'https://www.ptt.cc'+ atcl.find('div',class_='title').a.get('href')  #找網址\n",
        "  date = atcl.find('div',class_='date').text\n",
        "  print(date, href, ttle)"
      ],
      "metadata": {
        "colab": {
          "base_uri": "https://localhost:8080/"
        },
        "id": "qy7N4y46m_rl",
        "outputId": "586d0ce8-5547-4632-aeef-8ffee78e939f"
      },
      "execution_count": 5,
      "outputs": [
        {
          "output_type": "stream",
          "name": "stdout",
          "text": [
            " 4/01 https://www.ptt.cc/bbs/movie/M.1743441118.A.25E.html [新聞] 《麥塊電影》首波評價兩極化，媒體狂轟：\n",
            " 4/01 https://www.ptt.cc/bbs/movie/M.1743441272.A.A80.html [新聞] 海倫米蘭反對詹姆士龐德推出「女性版本」\n",
            " 4/01 https://www.ptt.cc/bbs/movie/M.1743453258.A.0C3.html [新聞] 約翰·波耶加表示，《星際大戰》「太白了\n",
            " 4/01 https://www.ptt.cc/bbs/movie/M.1743473354.A.F69.html [討論] Sydney Sweeney 正洽談參演《鋼彈》\n",
            " 4/01 https://www.ptt.cc/bbs/movie/M.1743475986.A.30D.html Fw: [情報] 蜘蛛人 超越新宇宙 2027上映\n",
            " 4/01 https://www.ptt.cc/bbs/movie/M.1743477270.A.460.html [情報] 蜘蛛人4 定檔2026.7.31\n",
            " 4/01 https://www.ptt.cc/bbs/movie/M.1743483606.A.01E.html [情報] 披頭四傳記系列電影 2028年4月 同時上映\n",
            " 4/01 https://www.ptt.cc/bbs/movie/M.1743486271.A.32D.html [新聞] 查克史奈德新片將與 UFC 合作 \n",
            " 4/01 https://www.ptt.cc/bbs/movie/M.1743489465.A.C3C.html Re: [新聞] 《白雪公主》票房爛到嚇醒好萊塢！趕緊改\n",
            " 9/04 https://www.ptt.cc/bbs/movie/M.1630756788.A.1FE.html [公告] 電影板板規 2022/12/5\n",
            " 9/15 https://www.ptt.cc/bbs/movie/M.1694784041.A.89F.html [公告] 禁政治版規 及 投票結果\n"
          ]
        }
      ]
    },
    {
      "cell_type": "code",
      "source": [
        "'https://www.ptt.cc'+ soup.find_all('a',class_='btn wide')[1].get('href') #找到上一頁的網址"
      ],
      "metadata": {
        "colab": {
          "base_uri": "https://localhost:8080/",
          "height": 35
        },
        "id": "Vq0Ws20cpE9L",
        "outputId": "f798ff5f-914c-4a5e-f3a6-95cbb6b374d6"
      },
      "execution_count": 6,
      "outputs": [
        {
          "output_type": "execute_result",
          "data": {
            "text/plain": [
              "'https://www.ptt.cc/bbs/movie/index10548.html'"
            ],
            "application/vnd.google.colaboratory.intrinsic+json": {
              "type": "string"
            }
          },
          "metadata": {},
          "execution_count": 6
        }
      ]
    },
    {
      "cell_type": "markdown",
      "source": [
        "電影版5篇"
      ],
      "metadata": {
        "id": "vpNCYpnUrw-R"
      }
    },
    {
      "cell_type": "code",
      "source": [
        "def get_articles(url):\n",
        "  response=requests.get(url)\n",
        "  soup=BeautifulSoup(response.text,'lxml')\n",
        "  for atcl in soup.find_all('div',class_='r-ent'):\n",
        "    if atcl.find('div',class_='title').a:\n",
        "      ttle = atcl.find('div',class_='title').a.text\n",
        "      href = 'https://www.ptt.cc'+ atcl.find('div',class_='title').a.get('href')\n",
        "    else:\n",
        "      ttle = atcl.find('div',class_='title').text.strip()\n",
        "      href = ''\n",
        "    date = atcl.find('div',class_='date').text\n",
        "    print(date, href, ttle)\n",
        "  url='https://www.ptt.cc'+ soup.find_all('a',class_='btn wide')[1].get('href')\n",
        "  return url\n",
        "\n",
        "url='https://www.ptt.cc/bbs/Movie/index.html'\n",
        "for i in range(5): #要找五頁\n",
        "  url=get_articles(url)"
      ],
      "metadata": {
        "colab": {
          "base_uri": "https://localhost:8080/"
        },
        "id": "ayvFVqrSr0IS",
        "outputId": "aef083ca-a3fb-48e2-9948-a46feae5ef19"
      },
      "execution_count": 7,
      "outputs": [
        {
          "output_type": "stream",
          "name": "stdout",
          "text": [
            " 4/01 https://www.ptt.cc/bbs/movie/M.1743441118.A.25E.html [新聞] 《麥塊電影》首波評價兩極化，媒體狂轟：\n",
            " 4/01 https://www.ptt.cc/bbs/movie/M.1743441272.A.A80.html [新聞] 海倫米蘭反對詹姆士龐德推出「女性版本」\n",
            " 4/01 https://www.ptt.cc/bbs/movie/M.1743453258.A.0C3.html [新聞] 約翰·波耶加表示，《星際大戰》「太白了\n",
            " 4/01 https://www.ptt.cc/bbs/movie/M.1743473354.A.F69.html [討論] Sydney Sweeney 正洽談參演《鋼彈》\n",
            " 4/01 https://www.ptt.cc/bbs/movie/M.1743475986.A.30D.html Fw: [情報] 蜘蛛人 超越新宇宙 2027上映\n",
            " 4/01 https://www.ptt.cc/bbs/movie/M.1743477270.A.460.html [情報] 蜘蛛人4 定檔2026.7.31\n",
            " 4/01 https://www.ptt.cc/bbs/movie/M.1743483606.A.01E.html [情報] 披頭四傳記系列電影 2028年4月 同時上映\n",
            " 4/01 https://www.ptt.cc/bbs/movie/M.1743486271.A.32D.html [新聞] 查克史奈德新片將與 UFC 合作 \n",
            " 4/01 https://www.ptt.cc/bbs/movie/M.1743489465.A.C3C.html Re: [新聞] 《白雪公主》票房爛到嚇醒好萊塢！趕緊改\n",
            " 9/04 https://www.ptt.cc/bbs/movie/M.1630756788.A.1FE.html [公告] 電影板板規 2022/12/5\n",
            " 9/15 https://www.ptt.cc/bbs/movie/M.1694784041.A.89F.html [公告] 禁政治版規 及 投票結果\n",
            " 3/31 https://www.ptt.cc/bbs/movie/M.1743382009.A.DDC.html Re: [負雷] 十重點吐槽不知所云的《白雪公主》\n",
            " 3/31 https://www.ptt.cc/bbs/movie/M.1743384740.A.A9F.html Re: [閒聊] 最頂公路電影\n",
            " 3/31 https://www.ptt.cc/bbs/movie/M.1743390267.A.1F7.html [國片]命中注定那頭鵝心得（部分雷）\n",
            " 3/31 https://www.ptt.cc/bbs/movie/M.1743391290.A.6DA.html [討論] 給侏儒演矮人是歧視？不演也不行？\n",
            " 3/31 https://www.ptt.cc/bbs/movie/M.1743394732.A.337.html [ 極好雷]  世界計畫劇場版 心得 （內有雷）\n",
            " 3/31 https://www.ptt.cc/bbs/movie/M.1743398037.A.772.html [新聞] Richard Chamberlain 過世\n",
            " 3/31 https://www.ptt.cc/bbs/movie/M.1743403703.A.53F.html [新聞] 「成龍御用反派」理察諾頓75歲離世 老搭\n",
            " 3/31 https://www.ptt.cc/bbs/movie/M.1743407474.A.8EE.html [選片] 重裝制裁and白熊公主\n",
            " 3/31 https://www.ptt.cc/bbs/movie/M.1743426164.A.5B4.html [請益] 因故辭演 或是救火演出的電影或\n",
            " 3/31 https://www.ptt.cc/bbs/movie/M.1743427223.A.956.html [新聞] 《白雪公主》票房爛到嚇醒好萊塢！趕緊改\n",
            " 3/31  (本文已被刪除) [XDGEE]\n",
            " 3/31 https://www.ptt.cc/bbs/movie/M.1743429722.A.2DD.html [新聞] 《薩爾達傳說》真人電影三部曲！拍攝地點\n",
            " 3/31 https://www.ptt.cc/bbs/movie/M.1743429911.A.056.html [新聞] 《末日之戰2》！布萊德彼特籌拍「極機密\n",
            " 3/31 https://www.ptt.cc/bbs/movie/M.1743433168.A.31E.html [好無雷] 同床異夢\n",
            " 3/31 https://www.ptt.cc/bbs/movie/M.1743433468.A.A90.html [超好無雷] Minecraft電影心得\n",
            " 3/31 https://www.ptt.cc/bbs/movie/M.1743434529.A.47B.html [討論] 艋舺續集的可能性\n",
            " 3/31 https://www.ptt.cc/bbs/movie/M.1743434965.A.A72.html Fw: [普雷] A Minecraft Movie 麥塊電影（有防雷）\n",
            " 3/31 https://www.ptt.cc/bbs/movie/M.1743436378.A.F49.html [新聞] 佩德羅巴斯卡稱瑞秋曾格勒「偶像」(icon)\n",
            " 4/01 https://www.ptt.cc/bbs/movie/M.1743440770.A.ED1.html [好雷] 正宗日式純愛電影-366日\n",
            " 4/01  (本文已被刪除) [XDGEE]\n",
            " 3/30 https://www.ptt.cc/bbs/movie/M.1743313838.A.315.html [片單] 把暗戀表現得很細膩的電影\n",
            " 3/30 https://www.ptt.cc/bbs/movie/M.1743322183.A.2C5.html Re: [討論] 大家覺得很爛很難看 你卻超喜歡的電影\n",
            " 3/30 https://www.ptt.cc/bbs/movie/M.1743328605.A.CFE.html [新聞] 受日本「租友」文化啟發 奧地利鬼才導演諷刺喜劇顛覆傳統\n",
            " 3/30 https://www.ptt.cc/bbs/movie/M.1743335698.A.AC9.html [新聞] 《麥塊電影》票房3天上看6000萬！接棒《\n",
            " 3/30 https://www.ptt.cc/bbs/movie/M.1743338102.A.0AE.html [情報] 4/18【犯罪直播】中文預告\n",
            " 3/30 https://www.ptt.cc/bbs/movie/M.1743340618.A.CAF.html [問片] 主角家是鞋子工廠\n",
            " 3/30 https://www.ptt.cc/bbs/movie/M.1743341386.A.136.html [討論] 如果時光倒流,讓驚奇少女演白雪公主？\n",
            " 3/30 https://www.ptt.cc/bbs/movie/M.1743342545.A.F07.html [超負雷]《重裝制裁》看到懷疑這是搞笑片嗎？\n",
            " 3/30 https://www.ptt.cc/bbs/movie/M.1743345312.A.F04.html [負雷] 十重點吐槽不知所云的《白雪公主》\n",
            " 3/30 https://www.ptt.cc/bbs/movie/M.1743345768.A.222.html [好雷] 大畫特務2 遠超出期待的收官之作(應該)\n",
            " 3/30 https://www.ptt.cc/bbs/movie/M.1743346533.A.034.html [片單] 愛而不得的片\n",
            " 3/30 https://www.ptt.cc/bbs/movie/M.1743347618.A.C1E.html [好雷] 餘命十年\n",
            " 3/30 https://www.ptt.cc/bbs/movie/M.1743347739.A.76D.html [負雷] 世界計畫 崩壞的世界與無法歌唱的初音未\n",
            " 3/30 https://www.ptt.cc/bbs/movie/M.1743347898.A.603.html [新聞] 傑森史塔森「重裝制裁」讓白雪公主下去\n",
            " 3/30 https://www.ptt.cc/bbs/movie/M.1743348922.A.81D.html [情報] 3/30 當週10部新片預告+Youtube觀看排行\n",
            " 3/30 https://www.ptt.cc/bbs/movie/M.1743349807.A.CCF.html [閒聊] 最頂公路電影\n",
            " 3/31 https://www.ptt.cc/bbs/movie/M.1743351892.A.317.html [好無雷] 無痛先生 意外好看的爽片\n",
            " 3/31 https://www.ptt.cc/bbs/movie/M.1743352619.A.807.html [問片] 一個結尾說要去銀河闖蕩的電影\n",
            " 3/31 https://www.ptt.cc/bbs/movie/M.1743361337.A.355.html [普雷] 寶貝露比 沒反轉\n",
            " 3/31 https://www.ptt.cc/bbs/movie/M.1743365679.A.840.html Re: [新聞] 錯失「超級英雄」角色演員：休傑克曼、\n",
            " 3/29 https://www.ptt.cc/bbs/movie/M.1743235624.A.43A.html [普雷] 《鬼才之道》 \n",
            " 3/29 https://www.ptt.cc/bbs/movie/M.1743236039.A.CEB.html [請益] 封神第二部ScreenX\n",
            " 3/29 https://www.ptt.cc/bbs/movie/M.1743236666.A.8A2.html [LIVE] HBO 22:00 血腥瑪辛\n",
            " 3/29 https://www.ptt.cc/bbs/movie/M.1743237247.A.275.html [問片]女主角被男生強押，用玻璃解危的 電影片段\n",
            " 3/29 https://www.ptt.cc/bbs/movie/M.1743239785.A.E52.html [新聞] 錯失「超級英雄」角色演員：休傑克曼、\n",
            " 3/29 https://www.ptt.cc/bbs/movie/M.1743249332.A.2CB.html [負無雷] 《重裝制裁》大成本的B級片\n",
            " 3/29 https://www.ptt.cc/bbs/movie/M.1743249888.A.5A5.html [選片] 請問明天想要看電影？\n",
            " 3/29 https://www.ptt.cc/bbs/movie/M.1743256268.A.EAD.html [好微雷] 來自誰的啟示 全員無惡人 是誰造就了悲\n",
            " 3/29 https://www.ptt.cc/bbs/movie/M.1743256745.A.8EF.html [反思]重裝制裁：俄羅斯人的鬼片\n",
            " 3/29 https://www.ptt.cc/bbs/movie/M.1743258069.A.D41.html [請益] 飾演過陳真的演員?\n",
            " 3/29 https://www.ptt.cc/bbs/movie/M.1743259038.A.0A7.html [討論] 分享我今年的電影清單\n",
            " 3/30 https://www.ptt.cc/bbs/movie/M.1743264269.A.B1A.html [好雷] 鬼才之道\n",
            " 3/30 https://www.ptt.cc/bbs/movie/M.1743264755.A.3FF.html [討論] 請問有小孩子的《白雪公主》心得嗎?\n",
            " 3/30 https://www.ptt.cc/bbs/movie/M.1743267211.A.826.html [好雷] 《重裝制裁》導演一定有玩GTA\n",
            " 3/30 https://www.ptt.cc/bbs/movie/M.1743297144.A.418.html [討論] 為什麼《會計師》直譯片名而無前綴詞？\n",
            " 3/30  (本文已被刪除) [XDGEE]\n",
            " 3/30 https://www.ptt.cc/bbs/movie/M.1743301005.A.7D7.html [新聞] 席德妮史威尼穿比基尼！體態圓潤遭網酸：\n",
            " 3/30 https://www.ptt.cc/bbs/movie/M.1743301256.A.951.html [新聞] 「白雪公主」太欠罵！製片教訓她兒子補刀\n",
            " 3/30 https://www.ptt.cc/bbs/movie/M.1743305334.A.78A.html [討論] 大家覺得很爛很難看 你卻超喜歡的電影\n",
            " 3/30 https://www.ptt.cc/bbs/movie/M.1743311764.A.F6B.html [好無雷]電影版孤獨的美食家:更頂的五郎吃遍世界\n",
            " 3/28 https://www.ptt.cc/bbs/movie/M.1743135472.A.E47.html [情報] iTunes$80起 餐廳失控夜.維多莉亞.湯道 \n",
            " 3/28 https://www.ptt.cc/bbs/movie/M.1743146619.A.2FA.html [討論] 封神第二部特效問題\n",
            " 3/28 https://www.ptt.cc/bbs/movie/M.1743158430.A.A25.html [負雷] 《白雪公主》無恥至極的大爛片\n",
            " 3/28 https://www.ptt.cc/bbs/movie/M.1743160450.A.144.html [好雷] 重裝制裁\n",
            " 3/28 https://www.ptt.cc/bbs/movie/M.1743163145.A.70E.html [好無雷] 太正向了受不了《世界計劃 略》\n",
            " 3/28 https://www.ptt.cc/bbs/movie/M.1743163591.A.5B7.html [片單] 有沒有看完會很負面的電影啊\n",
            " 3/28 https://www.ptt.cc/bbs/movie/M.1743166672.A.E40.html [負雷] 重裝制裁 蜂刑者好看多了 \n",
            " 3/28 https://www.ptt.cc/bbs/movie/M.1743167379.A.691.html Re: [好雷] 重裝制裁\n",
            " 3/28 https://www.ptt.cc/bbs/movie/M.1743167697.A.F95.html [請益] 目前有比白雪公主賠3億更高紀錄嗎？？\n",
            " 3/28 https://www.ptt.cc/bbs/movie/M.1743169529.A.E33.html [爛雷]  古曼童：母愛降靈\n",
            " 3/28 https://www.ptt.cc/bbs/movie/M.1743170335.A.A95.html [情報] 《薩爾達傳說》真人電影版2027/3/26上映\n",
            " 3/28 https://www.ptt.cc/bbs/movie/M.1743170877.A.4CB.html [普雷] 重裝制裁 麻煩不要再試圖做些什麼了\n",
            " 3/29 https://www.ptt.cc/bbs/movie/M.1743185897.A.604.html [討論] 亞歷鮑德溫被他的嫩妻叫閉嘴\n",
            " 3/29 https://www.ptt.cc/bbs/movie/M.1743186838.A.D5A.html [新聞] 《驚奇 4 超人：第一步》的票房挑戰！重\n",
            " 3/29 https://www.ptt.cc/bbs/movie/M.1743187081.A.7F7.html [新聞] 奧斯卡影后麥迪遜《惡靈古堡》重啟主角！\n",
            " 3/29 https://www.ptt.cc/bbs/movie/M.1743192353.A.AC0.html [討論] 《復仇者5》明顯缺少女性\n",
            " 3/29 https://www.ptt.cc/bbs/movie/M.1743208325.A.114.html [片單] 體會日常美好的電影\n",
            " 3/29 https://www.ptt.cc/bbs/movie/M.1743211715.A.4E5.html [負微雷] 重裝制裁\n",
            " 3/29 https://www.ptt.cc/bbs/movie/M.1743226583.A.979.html [好雷] 鬼才之道 \n",
            " 3/29 https://www.ptt.cc/bbs/movie/M.1743226622.A.F49.html Re: [請益] 目前有比白雪公主賠3億更高紀錄嗎？？\n"
          ]
        }
      ]
    },
    {
      "cell_type": "markdown",
      "source": [
        "美食版5篇"
      ],
      "metadata": {
        "id": "IHHV-Lftt76M"
      }
    },
    {
      "cell_type": "code",
      "source": [
        "def get_articles(url):\n",
        "  response=requests.get(url)\n",
        "  soup=BeautifulSoup(response.text,'lxml')\n",
        "  for atcl in soup.find_all('div',class_='r-ent'):\n",
        "    if atcl.find('div',class_='title').a:\n",
        "      ttle = atcl.find('div',class_='title').a.text\n",
        "      href = 'https://www.ptt.cc'+ atcl.find('div',class_='title').a.get('href')\n",
        "    else:\n",
        "      ttle = atcl.find('div',class_='title').text.strip()\n",
        "      href = ''\n",
        "    date = atcl.find('div',class_='date').text\n",
        "    print(date, href, ttle)\n",
        "  url='https://www.ptt.cc'+ soup.find_all('a',class_='btn wide')[1].get('href')\n",
        "  return url\n",
        "\n",
        "url='https://www.ptt.cc/bbs/Food/index.html'\n",
        "for i in range(5):\n",
        "  url=get_articles(url)"
      ],
      "metadata": {
        "colab": {
          "base_uri": "https://localhost:8080/"
        },
        "id": "s906KaOUuBD1",
        "outputId": "93836669-e746-4a41-d79b-caf887ee7cf0"
      },
      "execution_count": 8,
      "outputs": [
        {
          "output_type": "stream",
          "name": "stdout",
          "text": [
            " 4/01 https://www.ptt.cc/bbs/Food/M.1743477233.A.985.html [食記] 台南建築美學與美味的巷弄走走Cafe\n",
            " 4/01 https://www.ptt.cc/bbs/Food/M.1743477442.A.265.html [食記] 台南有邑家手作腸粉與咖啡的完美邂\n",
            " 4/01 https://www.ptt.cc/bbs/Food/M.1743477688.A.BC8.html [食記] 中壢 超夯現炸脆皮肉圓\n",
            " 4/01 https://www.ptt.cc/bbs/Food/M.1743481461.A.028.html [食記] 福岡天神 壽司郎 初代軌道運送有點狼狽\n",
            " 4/01 https://www.ptt.cc/bbs/Food/M.1743483875.A.28C.html [食記] Onigiri Bongo 日本東京 明太子起司飯糰\n",
            "12/16 https://www.ptt.cc/bbs/Food/M.1355673582.A.5F7.html [公告] Food板 板規 V3.91\n",
            " 9/28 https://www.ptt.cc/bbs/Food/M.1190944426.A.E6C.html [公告] 發文請在標題加上地區及提供地址電話。^^\n",
            "10/01 https://www.ptt.cc/bbs/Food/M.1128132666.A.0FD.html [公告] 文章被刪除者請洽精華區的資源回收桶\n",
            " 6/04 https://www.ptt.cc/bbs/Food/M.1496532469.A.C36.html [公告] 新增板規22：發文禁附延伸閱讀連結\n",
            " 3/30 https://www.ptt.cc/bbs/Food/M.1743310289.A.717.html [食記] 嘉義東區—羅山生炒鱔魚麵｜炭燒味生炒鱔魚麵只賣四小時\n",
            " 3/30 https://www.ptt.cc/bbs/Food/M.1743319033.A.85B.html [請益] 台北藍線8人家族聚餐\n",
            " 3/30 https://www.ptt.cc/bbs/Food/M.1743329615.A.867.html [食記] 京都出町柳 COYOTE Roastery\n",
            " 3/30 https://www.ptt.cc/bbs/Food/M.1743344370.A.204.html [食記] 桃園中壢區。豐味食堂\n",
            " 3/30  (本文已被刪除) [JimXpp]\n",
            " 3/30  (本文已被刪除) [JimXpp]\n",
            " 3/30 https://www.ptt.cc/bbs/Food/M.1743345355.A.090.html [食記] 京都五条 LORIMER KYOTO 烤魚早餐\n",
            " 3/30 https://www.ptt.cc/bbs/Food/M.1743346687.A.74A.html [食記] 日本 福岡 小倉 一平本店\n",
            " 3/31 https://www.ptt.cc/bbs/Food/M.1743351091.A.5BA.html [食記] 台北101鼎泰豐\n",
            " 3/31 https://www.ptt.cc/bbs/Food/M.1743351356.A.5E6.html [食記] 法國尼斯 Kiosque tintin 吃尼斯三明治\n",
            " 3/31 https://www.ptt.cc/bbs/Food/M.1743351484.A.16E.html [食記] 台北大同 慈音古早味阿婆飯糰 神奇的排隊店\n",
            " 3/31 https://www.ptt.cc/bbs/Food/M.1743359473.A.035.html [食記] 瑞典 斯德哥爾摩 Herno Gin Bar\n",
            " 3/31 https://www.ptt.cc/bbs/Food/M.1743394382.A.4C8.html [食記] 新竹 阿瑛潤餅（仁德街口無名潤餅）\n",
            " 3/31 https://www.ptt.cc/bbs/Food/M.1743406110.A.DEA.html [食記] 台南UNOS CAF줠甜點與咖啡的極致享受\n",
            " 3/31 https://www.ptt.cc/bbs/Food/M.1743415376.A.40E.html [食記] 北港鼎太香菇肉羹 新北新莊 肉羹及滷肉飯\n",
            " 3/31 https://www.ptt.cc/bbs/Food/M.1743424850.A.DE1.html [食記] Monday不blue！∥板橋∥松江街∥旧宅在 \n",
            " 3/31 https://www.ptt.cc/bbs/Food/M.1743426274.A.0B1.html [食記] 彰化 八卦山下燒肉圓\n",
            " 3/31 https://www.ptt.cc/bbs/Food/M.1743428942.A.DAC.html [食記] 香港 蛇王熙\n",
            " 3/31 https://www.ptt.cc/bbs/Food/M.1743432162.A.676.html [食記] 新北 THE PIZZA 惹披薩輔大店披薩吃到飽\n",
            " 3/31 https://www.ptt.cc/bbs/Food/M.1743434591.A.6BC.html [食記] 台北大安 77opèt Restaurant\n",
            " 3/27 https://www.ptt.cc/bbs/Food/M.1743040761.A.943.html [食記] 隣tonari拉麵 台北大安 濃郁豚骨魚介沾麵\n",
            " 3/27 https://www.ptt.cc/bbs/Food/M.1743055596.A.E75.html [食記] 內湖環山路上Le Mani 琢手咖啡 \n",
            " 3/27 https://www.ptt.cc/bbs/Food/M.1743063492.A.ACC.html [食記] 台北士林—忠義街蘿蔔絲餅｜傳承二代人氣銅板下午茶\n",
            " 3/27 https://www.ptt.cc/bbs/Food/M.1743084000.A.5DA.html [食記] 日本 長崎 雲龍亭 (銅座店)\n",
            " 3/27 https://www.ptt.cc/bbs/Food/M.1743084559.A.AD5.html [食記] 桃園。頭頓煎蝦餅\n",
            " 3/27 https://www.ptt.cc/bbs/Food/M.1743091195.A.FD4.html [食記] 日本福岡 水炊料亭 博多華味鳥 天神店\n",
            " 3/28 https://www.ptt.cc/bbs/Food/M.1743128568.A.1F7.html [廣宣] 台北 新開幕的日式炙燒鴨肉專門店-鴨箱\n",
            " 3/28 https://www.ptt.cc/bbs/Food/M.1743130667.A.9FC.html [食記] 香港旺角 金華冰廳 美味菠蘿油邪惡西多士\n",
            " 3/28 https://www.ptt.cc/bbs/Food/M.1743133621.A.537.html [食記] 社子魚丸 台北士林 魚丸配辣高麗菜冬粉湯\n",
            " 3/28 https://www.ptt.cc/bbs/Food/M.1743156437.A.E3D.html [食記] 新竹素食|田土山。藏身市區無菜單料理\n",
            " 3/28 https://www.ptt.cc/bbs/Food/M.1743156669.A.27D.html [食記] 桃園平鎮區。巧御食光\n",
            " 3/28 https://www.ptt.cc/bbs/Food/M.1743170470.A.833.html [食記] 香港 新桂香燒臘\n",
            " 3/29 https://www.ptt.cc/bbs/Food/M.1743224109.A.144.html [食記] 宜蘭 大成 羊排麵牛肉麵\n",
            " 3/29 https://www.ptt.cc/bbs/Food/M.1743243245.A.229.html [食記] 捷克 帝國咖啡廳 世界最美十大咖啡廳\n",
            " 3/29 https://www.ptt.cc/bbs/Food/M.1743246299.A.234.html [食記] 台中 西區｜迴香印度餐廳 Savory Curry\n",
            " 3/29 https://www.ptt.cc/bbs/Food/M.1743250396.A.653.html [食記] 新北板橋 谷藺 x Sweet Bites Lab\n",
            " 3/29 https://www.ptt.cc/bbs/Food/M.1743260620.A.873.html [食記] 懷舊中卷麵線 桃園龜山 中卷大腸肉羹麵線\n",
            " 3/30 https://www.ptt.cc/bbs/Food/M.1743266351.A.739.html [食記] 法國尼斯 Chez Pipo尼斯洋蔥塔鷹嘴豆煎餅\n",
            " 3/30 https://www.ptt.cc/bbs/Food/M.1743302590.A.408.html [食記] 微香 新竹竹北 香濃青醬豬肉水管義大利麵\n",
            " 3/30 https://www.ptt.cc/bbs/Food/M.1743305782.A.B75.html [食記] 泰國佛統府 Manpai Sainam Cafe\n",
            " 3/24 https://www.ptt.cc/bbs/Food/M.1742808041.A.0BE.html [食記] 桃園 平鎮 松源客家菜館\n",
            " 3/24 https://www.ptt.cc/bbs/Food/M.1742824448.A.FB6.html [食記] 台北 CHA CHA THÉ CUISINE采采食茶\n",
            " 3/24 https://www.ptt.cc/bbs/Food/M.1742829379.A.4FD.html [食記] 桃園 Mellowed Me 美若靡商行 美味甜點店\n",
            " 3/25 https://www.ptt.cc/bbs/Food/M.1742836224.A.B4E.html [食記] 台北 文山 老饒牛肉麵店\n",
            " 3/25 https://www.ptt.cc/bbs/Food/M.1742876273.A.906.html [食記] いづ重 日本京都 醋飯酸香風味淡雅箱壽司\n",
            " 3/25 https://www.ptt.cc/bbs/Food/M.1742908442.A.E76.html [食記] 台北 一甲子餐飲 米其林必比登\n",
            " 3/25 https://www.ptt.cc/bbs/Food/M.1742910899.A.DFE.html [食記] 新竹 墨多 再訪\n",
            " 3/25 https://www.ptt.cc/bbs/Food/M.1742911175.A.7EF.html [食記] 日本 大阪 日本橋 なにわ新風 日本橋總本\n",
            " 3/25 https://www.ptt.cc/bbs/Food/M.1742911524.A.689.html [食記] 桃園平鎮區。天津小籠包（矮房子）\n",
            " 3/25 https://www.ptt.cc/bbs/Food/M.1742916544.A.1DE.html [食記] 台中 新天地崇德旗艦店-樂食自助百匯 \n",
            " 3/25 https://www.ptt.cc/bbs/Food/M.1742917338.A.192.html [食記] 基隆中正區-朴庶韓國烤肉 基隆北寧店\n",
            " 3/26 https://www.ptt.cc/bbs/Food/M.1742960584.A.F75.html [食記] 沖茶 台北信義 清香香蘭葉冰茶香蘭葉甜糕\n",
            " 3/26 https://www.ptt.cc/bbs/Food/M.1742969454.A.BA4.html [廣宣] 南港 LaLaport舒芙蕾鬆餅推-武蔵野森珈琲\n",
            " 3/26 https://www.ptt.cc/bbs/Food/M.1742975399.A.0C1.html [食記] 台南北區 賀呷肉燥飯虱目魚\n",
            " 3/26 https://www.ptt.cc/bbs/Food/M.1742976377.A.E18.html [食記] 高雄苓雅區 正義蚵仔麵線\n",
            " 3/26 https://www.ptt.cc/bbs/Food/M.1742983548.A.C75.html [食記] 台南學甲 順德土產牛肉湯\n",
            " 3/26 https://www.ptt.cc/bbs/Food/M.1742993240.A.533.html [食記] 新竹 三千金現做潤餅 ～遊走各市場間\n",
            " 3/26 https://www.ptt.cc/bbs/Food/M.1742996902.A.907.html [食記] 台中 ISOLA Dining & Bar\n",
            " 3/26 https://www.ptt.cc/bbs/Food/M.1743001873.A.D17.html [食記] 花蓮 強蛋餅 花蓮大東夜市 蛋餅好好吃\n",
            " 3/26 https://www.ptt.cc/bbs/Food/M.1743002256.A.A2A.html [食記] 花蓮玉里鎮不思閣米甜圈\n",
            " 3/22 https://www.ptt.cc/bbs/Food/M.1742576568.A.78E.html [食記] 台北 大安 詹記麻辣火鍋(敦南店)\n",
            " 3/22 https://www.ptt.cc/bbs/Food/M.1742608702.A.5D7.html [食記] 東京燒肉 蕃ebisu yoroniku  \n",
            " 3/22 https://www.ptt.cc/bbs/Food/M.1742631341.A.9C4.html [食記] 台中 中區｜敷酒串屋 FU JIU\n",
            " 3/22 https://www.ptt.cc/bbs/Food/M.1742635712.A.94F.html [食記] 桃園。法大炸雞\n",
            " 3/22 https://www.ptt.cc/bbs/Food/M.1742635962.A.A21.html [食記] 炸豬排檍 日本東京 香酥炸豬排搭伍斯特醬\n",
            " 3/22 https://www.ptt.cc/bbs/Food/M.1742655463.A.A04.html [食記] 東京六厘舍|車站地下街~大份量沾麵\n",
            " 3/23 https://www.ptt.cc/bbs/Food/M.1742690549.A.5A6.html [食記] 正宗岡山羊肉 新北土城 麻油炒羊肉羊雜湯\n",
            " 3/23 https://www.ptt.cc/bbs/Food/M.1742692135.A.5D5.html [食記] 竹北 日式板前無菜單料理，豪軒\n",
            " 3/23 https://www.ptt.cc/bbs/Food/M.1742695050.A.094.html [食記] 日本東京 HARBS澀谷櫻花舞台店\n",
            " 3/23 https://www.ptt.cc/bbs/Food/M.1742695486.A.EA9.html [食記] 泰國佛統府 After the Rain Coffee\n",
            " 3/23 https://www.ptt.cc/bbs/Food/M.1742702180.A.D4C.html [食記] 澳門。倫敦人酒店-Shake Shack漢堡\n",
            " 3/23 https://www.ptt.cc/bbs/Food/M.1742705372.A.6A7.html [食記] 斗南 榕苑古蹟餐飲\n",
            " 3/23 https://www.ptt.cc/bbs/Food/M.1742709100.A.1A8.html [食記] 東京新宿 AFURI 新宿ルミネ 柚子鹽味拉麵\n",
            " 3/23 https://www.ptt.cc/bbs/Food/M.1742735426.A.EB7.html [食記] 台中 飪室咖哩\n",
            " 3/23 https://www.ptt.cc/bbs/Food/M.1742739508.A.DB2.html [食記] 桃園蘆竹區。許家肉圓\n",
            " 3/23 https://www.ptt.cc/bbs/Food/M.1742739611.A.69C.html [食記] 日本 長崎 長崎車站 中華大八\n",
            " 3/24 https://www.ptt.cc/bbs/Food/M.1742752182.A.C6F.html [請益] 信義區下午就能喝酒吃小菜的地方\n",
            " 3/24 https://www.ptt.cc/bbs/Food/M.1742783430.A.F20.html [食記] 台南 阿龍香腸熟肉 老味道 阿舍菜\n",
            " 3/24 https://www.ptt.cc/bbs/Food/M.1742784937.A.425.html [食記] 昌明豆漿小籠包 新北新莊 香麻辣Q小籠包\n",
            " 3/24 https://www.ptt.cc/bbs/Food/M.1742799570.A.10F.html Fw: [食記] 東京 つばめグリル 多蜜醬紙包燉煮漢堡排\n"
          ]
        }
      ]
    },
    {
      "cell_type": "markdown",
      "source": [
        "八卦版5篇"
      ],
      "metadata": {
        "id": "eqDazrByuQz4"
      }
    },
    {
      "cell_type": "code",
      "source": [
        "def get_articles(url):\n",
        "  response=requests.get(url)\n",
        "  soup=BeautifulSoup(response.text,'lxml')\n",
        "  for atcl in soup.find_all('div',class_='r-ent'):\n",
        "    if atcl.find('div',class_='title').a:\n",
        "      ttle = atcl.find('div',class_='title').a.text\n",
        "      href = 'https://www.ptt.cc'+ atcl.find('div',class_='title').a.get('href')\n",
        "    else:\n",
        "      ttle = atcl.find('div',class_='title').text.strip()\n",
        "      href = ''\n",
        "    date = atcl.find('div',class_='date').text\n",
        "    print(date, href, ttle)\n",
        "  url='https://www.ptt.cc'+ soup.find_all('a',class_='btn wide')[1].get('href')\n",
        "  return url\n",
        "\n",
        "url='https://www.ptt.cc/bbs/Gossiping/index.html'\n",
        "cookies={'over18':'1'}\n",
        "for i in range(5):\n",
        "  url=get_articles(url)"
      ],
      "metadata": {
        "colab": {
          "base_uri": "https://localhost:8080/"
        },
        "id": "uiIhTTD1uTav",
        "outputId": "977b526e-a116-4e75-aad8-9d80926ce353"
      },
      "execution_count": 9,
      "outputs": [
        {
          "output_type": "stream",
          "name": "stdout",
          "text": [
            " 4/01 https://www.ptt.cc/bbs/Gossiping/M.1743497099.A.ECE.html [問卦] 711的集點活動真的有人在換購？\n",
            " 4/01 https://www.ptt.cc/bbs/Gossiping/M.1743497107.A.2B5.html Re: [新聞] 獨／柯文哲血尿三度戒護就醫　水腎預計明\n",
            " 4/01 https://www.ptt.cc/bbs/Gossiping/M.1743497161.A.8E8.html [問卦] 鄰居放狗，只敢看著狗來？\n",
            " 4/01 https://www.ptt.cc/bbs/Gossiping/M.1743497162.A.DFB.html [問卦] 清明節是哪裡文化？\n",
            " 4/01 https://www.ptt.cc/bbs/Gossiping/M.1743497173.A.E36.html [新聞] 正妹網紅「遭色伯偷拍」！緊張追逐片曝光　金句連譙變亮點  \n",
            " 4/01 https://www.ptt.cc/bbs/Gossiping/M.1743497209.A.0FA.html [問卦] 要怎麼買到高鐵票啊\n",
            " 4/01 https://www.ptt.cc/bbs/Gossiping/M.1743497236.A.CCA.html Re: [爆卦] 共軍已經進入24海浬，愚人節還是愚人劫\n",
            " 4/01 https://www.ptt.cc/bbs/Gossiping/M.1743497341.A.820.html [新聞] 南港交通恐內科2.0 她點破蔣萬安今視察\n",
            " 4/01 https://www.ptt.cc/bbs/Gossiping/M.1743497357.A.792.html [問卦] “你的思想不正確”有問題？\n",
            "11/02 https://www.ptt.cc/bbs/Gossiping/M.1730554547.A.41C.html Fw: [公告] 請留意新註冊帳號使用信件詐騙\n",
            " 1/21 https://www.ptt.cc/bbs/Gossiping/M.1737398137.A.644.html [公告] 八卦板板規(2025.01.21)\n",
            " 3/12 https://www.ptt.cc/bbs/Gossiping/M.1741791500.A.EB6.html Fw: [公告] 請避免與登入1次之帳號進行交易 發錢\n",
            " 3/28 https://www.ptt.cc/bbs/Gossiping/M.1743146619.A.5A2.html [公告] 八卦板主徵選規則修正&截止時間\n",
            " 4/01 https://www.ptt.cc/bbs/Gossiping/M.1743496310.A.B09.html Re: [新聞] 獨／柯文哲血尿三度戒護就醫　水腎預計明\n",
            " 4/01 https://www.ptt.cc/bbs/Gossiping/M.1743496424.A.472.html [問卦] 是不是該立法不立中柱該開罰==\n",
            " 4/01 https://www.ptt.cc/bbs/Gossiping/M.1743496485.A.5B5.html [問卦] 大家沒抬頭對吧?\n",
            " 4/01 https://www.ptt.cc/bbs/Gossiping/M.1743496519.A.B60.html Re: [新聞] 獨／柯文哲血尿三度戒護就醫　水腎預計明\n",
            " 4/01 https://www.ptt.cc/bbs/Gossiping/M.1743496534.A.0EB.html [新聞] 柯文哲今二度戒護就醫 北所證實：已返回\n",
            " 4/01 https://www.ptt.cc/bbs/Gossiping/M.1743496580.A.5B4.html [問卦] 台灣為什麼不合併證件\n",
            " 4/01 https://www.ptt.cc/bbs/Gossiping/M.1743496623.A.99A.html [問卦] 川普大大會派航母來保護我們嗎？\n",
            " 4/01 https://www.ptt.cc/bbs/Gossiping/M.1743496674.A.C77.html [問卦] 有沒有活摘器官的八卦\n",
            " 4/01 https://www.ptt.cc/bbs/Gossiping/M.1743496687.A.33B.html [新聞] 抽菸GG被掰彎！45歲男海綿體被攻擊…醫\n",
            " 4/01 https://www.ptt.cc/bbs/Gossiping/M.1743496712.A.CB4.html [問卦] 包莖男都單身ㄇ O_o\n",
            " 4/01 https://www.ptt.cc/bbs/Gossiping/M.1743496761.A.AB5.html Re: [新聞] 獨／柯文哲血尿三度戒護就醫　水腎預計明\n",
            " 4/01 https://www.ptt.cc/bbs/Gossiping/M.1743496890.A.577.html [新聞] 搶看李珠珢！富邦悍將主場開幕戰4/2-4/3\n",
            " 4/01 https://www.ptt.cc/bbs/Gossiping/M.1743496954.A.429.html [問卦] 中國不敢打卻一直挑釁想怎樣？\n",
            " 4/01  (本文已被刪除) [Gina4290]\n",
            " 4/01 https://www.ptt.cc/bbs/Gossiping/M.1743496960.A.0FB.html [問卦] 水腎不用開刀 導尿管插一插就好?\n",
            " 4/01 https://www.ptt.cc/bbs/Gossiping/M.1743496969.A.72B.html Re: [問卦] 4G無線分享器推薦  山上農地要用\n",
            " 4/01 https://www.ptt.cc/bbs/Gossiping/M.1743496982.A.03A.html [爆卦] 央視網：東部戰區發布《殼》\n",
            " 4/01 https://www.ptt.cc/bbs/Gossiping/M.1743497016.A.3B3.html [新聞] 中共軍演！國防部9點成立應變中心　顧立3\n",
            " 4/01 https://www.ptt.cc/bbs/Gossiping/M.1743497047.A.BB5.html Re: [問卦] 中國軍演是不是影響航運物流？\n",
            " 4/01 https://www.ptt.cc/bbs/Gossiping/M.1743497069.A.D83.html Re: [新聞] 柯文哲今二度戒護就醫 北所證實：已\n",
            " 4/01 https://www.ptt.cc/bbs/Gossiping/M.1743495928.A.407.html [問卦] 不是我們強 是我們夠瘋 中共才會怕\n",
            " 4/01 https://www.ptt.cc/bbs/Gossiping/M.1743495942.A.E06.html [新聞] 快訊/回應中共對台軍演 國防部1700召開臨\n",
            " 4/01 https://www.ptt.cc/bbs/Gossiping/M.1743495963.A.4E0.html [問卦] 共軍會不會看我們都沒反應就直接衝來?\n",
            " 4/01 https://www.ptt.cc/bbs/Gossiping/M.1743495997.A.3E1.html [新聞] 藍底死當畫面準備走入歷史、微軟新設計曝\n",
            " 4/01 https://www.ptt.cc/bbs/Gossiping/M.1743496032.A.20A.html [新聞] 駭人影片｜9歲童朝空中扔石頭　玩耍小巧\n",
            " 4/01 https://www.ptt.cc/bbs/Gossiping/M.1743496045.A.047.html [問卦] 老闆宣布提早一小時下班，有多爽\n",
            " 4/01 https://www.ptt.cc/bbs/Gossiping/M.1743496073.A.64D.html [問卦] 脆說共軍靠近到20海里國軍就會行動?\n",
            " 4/01 https://www.ptt.cc/bbs/Gossiping/M.1743496109.A.ADC.html [問卦] 今年芒果乾會比2014還重嗎\n",
            " 4/01 https://www.ptt.cc/bbs/Gossiping/M.1743496109.A.18F.html [問卦] 健康良好跟手術開刀是同義詞嗎?\n",
            " 4/01 https://www.ptt.cc/bbs/Gossiping/M.1743496110.A.8E2.html Re: [新聞] 快訊／中國軍演侵擾我限制水域！ 海巡署\n",
            " 4/01 https://www.ptt.cc/bbs/Gossiping/M.1743496163.A.894.html [問卦] 龍樹諒知道她的書神棍很愛嗎\n",
            " 4/01 https://www.ptt.cc/bbs/Gossiping/M.1743496175.A.F2C.html [問卦] 如果進入北韓24海浬會發生什麼事情啊?\n",
            " 4/01 https://www.ptt.cc/bbs/Gossiping/M.1743496229.A.43D.html [新聞] 鄭文燦涉貪案承審2法官先後請長假　桃院火速找代理法官續審\n",
            " 4/01 https://www.ptt.cc/bbs/Gossiping/M.1743496231.A.BEC.html Re: [問卦] 中國歷史上有和平統一的案例嗎？\n",
            " 4/01 https://www.ptt.cc/bbs/Gossiping/M.1743496236.A.30C.html Re: [問卦] 不生小孩 一堆怪咖毛的掛?A_A\n",
            " 4/01 https://www.ptt.cc/bbs/Gossiping/M.1743496242.A.7A5.html [問卦] 中國軍演是不是影響航運物流？\n",
            " 4/01 https://www.ptt.cc/bbs/Gossiping/M.1743496244.A.687.html Re: [新聞] 快訊／中國軍演侵擾我限制水域！ 海\n",
            " 4/01 https://www.ptt.cc/bbs/Gossiping/M.1743496270.A.B39.html [爆卦] 中共軍演又擋LNG船抵台　天然氣存量危險\n",
            " 4/01 https://www.ptt.cc/bbs/Gossiping/M.1743496274.A.E49.html Re: [新聞] 柬埔寨警方攻堅金邊詐團據點！186名台灣\n",
            " 4/01 https://www.ptt.cc/bbs/Gossiping/M.1743496308.A.FDF.html [新聞] 台中遭丟棄黑狗找到了！飼主辯「太吵趕下\n",
            " 4/01 https://www.ptt.cc/bbs/Gossiping/M.1743495268.A.B5E.html Re: [新聞] 青年勞工就業調查「8成不想海外工作」 \n",
            " 4/01 https://www.ptt.cc/bbs/Gossiping/M.1743495325.A.4D3.html Re: [問卦] 黃暐瀚為什麼會被這麼多人討厭？\n",
            " 4/01 https://www.ptt.cc/bbs/Gossiping/M.1743495354.A.A39.html Re: [問卦] 黃暐瀚為什麼會被這麼多人討厭？\n",
            " 4/01 https://www.ptt.cc/bbs/Gossiping/M.1743495376.A.82F.html [新聞] 左腎積水、輸尿管結石！柯文哲今戒護就\n",
            " 4/01 https://www.ptt.cc/bbs/Gossiping/M.1743495377.A.54E.html Re: [爆卦] 共軍已經進入24海浬，愚人節還是愚人劫\n",
            " 4/01 https://www.ptt.cc/bbs/Gossiping/M.1743495385.A.F28.html [問卦] 女同事這樣說穩了吧？\n",
            " 4/01 https://www.ptt.cc/bbs/Gossiping/M.1743495401.A.71D.html [問卦] 美國3振條款 3次重罪後判無期 台灣未用?\n",
            " 4/01 https://www.ptt.cc/bbs/Gossiping/M.1743495420.A.88A.html [問卦] 很會畫卡諾圖，可以進聯發科了嗎\n",
            " 4/01 https://www.ptt.cc/bbs/Gossiping/M.1743495466.A.11A.html [問卦] 上野公園好多穿短裙的日本妹子在看櫻花耶\n",
            " 4/01 https://www.ptt.cc/bbs/Gossiping/M.1743495490.A.D94.html [問卦] 阿不是說身心良好，結果突然要動手術?\n",
            " 4/01 https://www.ptt.cc/bbs/Gossiping/M.1743495521.A.F32.html [問卦] 震撼！大全聯節瓜要69？！\n",
            " 4/01 https://www.ptt.cc/bbs/Gossiping/M.1743495528.A.134.html [問卦] 從何時開始已經沒有愚人節的氣氛了？\n",
            " 4/01 https://www.ptt.cc/bbs/Gossiping/M.1743495553.A.9C9.html Re: [新聞] 青年勞工就業調查「8成不想海外工作」 \n",
            " 4/01 https://www.ptt.cc/bbs/Gossiping/M.1743495620.A.449.html Re: [問卦] 大家到底用AI做了什麼正事？\n",
            " 4/01 https://www.ptt.cc/bbs/Gossiping/M.1743495648.A.AA7.html [新聞] 快訊／中國軍演侵擾我限制水域！ 海巡署\n",
            " 4/01 https://www.ptt.cc/bbs/Gossiping/M.1743495651.A.E22.html Re: [新聞] 左腎積水、輸尿管結石！柯文哲今戒護\n",
            " 4/01 https://www.ptt.cc/bbs/Gossiping/M.1743495765.A.5D7.html [新聞] 獨／柯文哲血尿三度戒護就醫　水腎預計明\n",
            " 4/01 https://www.ptt.cc/bbs/Gossiping/M.1743495847.A.AF7.html [問卦] 第一個人類嬰兒到底怎麼活下去的八卦？\n",
            " 4/01 https://www.ptt.cc/bbs/Gossiping/M.1743495855.A.3FB.html [問卦] 國軍影片是在抄襲共軍嗎？\n",
            " 4/01 https://www.ptt.cc/bbs/Gossiping/M.1743495926.A.997.html [問卦] 女同事問我聖誕節有沒有空？\n",
            " 4/01 https://www.ptt.cc/bbs/Gossiping/M.1743494335.A.2AB.html Re: [新聞] 幫郭智輝擋媒體 柯建銘：「他們要害你\n",
            " 4/01 https://www.ptt.cc/bbs/Gossiping/M.1743494336.A.54D.html Re: [問卦] 脆：家裡不能談政治 破防了\n",
            " 4/01 https://www.ptt.cc/bbs/Gossiping/M.1743494393.A.450.html [問卦] 台北路燈那個懶叫亮度是不是讓很多意外\n",
            " 4/01 https://www.ptt.cc/bbs/Gossiping/M.1743494459.A.907.html Re: [問卦] 黃暐瀚為什麼會被這麼多人討厭？\n",
            " 4/01 https://www.ptt.cc/bbs/Gossiping/M.1743494546.A.4E5.html [新聞] 中共台海軍演 國軍7日進駐22縣市模擬攻台\n",
            " 4/01 https://www.ptt.cc/bbs/Gossiping/M.1743494576.A.D69.html [問卦] 台灣有可能做百官行述嗎？\n",
            " 4/01 https://www.ptt.cc/bbs/Gossiping/M.1743494613.A.F10.html Re: [問卦] 黃暐瀚為什麼會被這麼多人討厭？\n",
            " 4/01 https://www.ptt.cc/bbs/Gossiping/M.1743494630.A.A5B.html [問卦] 新生兒命名\n",
            " 4/01  (本文已被刪除) [boy54188]\n",
            " 4/01 https://www.ptt.cc/bbs/Gossiping/M.1743494778.A.C67.html Re: [問卦] 共軍靠近到什麼程度台灣才會開火反擊?\n",
            " 4/01 https://www.ptt.cc/bbs/Gossiping/M.1743494856.A.3B3.html [問卦] 白雪公主告訴我們嘴秋是種腦殘嗎？\n",
            " 4/01 https://www.ptt.cc/bbs/Gossiping/M.1743494859.A.529.html Re: [新聞] 快訊／柯文哲「二度戒護送醫」原因曝光！\n",
            " 4/01 https://www.ptt.cc/bbs/Gossiping/M.1743494910.A.9DD.html Re: [新聞] 中共台海軍演 國軍7日進駐22縣市模擬攻台\n",
            " 4/01 https://www.ptt.cc/bbs/Gossiping/M.1743494917.A.811.html [新聞] 動完政府改查國會山莊？馬斯克下一步鎖定\n",
            " 4/01 https://www.ptt.cc/bbs/Gossiping/M.1743495005.A.B81.html [新聞] 世壯運》王建民打籃球？ 位置還是大前鋒\n",
            " 4/01 https://www.ptt.cc/bbs/Gossiping/M.1743495048.A.FD5.html [問卦] 敵國進入24海浬會很嚴重嗎\n",
            " 4/01 https://www.ptt.cc/bbs/Gossiping/M.1743495072.A.471.html [問卦] 台灣人會續攤嗎？\n",
            " 4/01 https://www.ptt.cc/bbs/Gossiping/M.1743495139.A.894.html Re: [問卦] 我們要交出甚麼東西才能止戰?\n",
            " 4/01 https://www.ptt.cc/bbs/Gossiping/M.1743495159.A.A18.html Re: [問卦] 中國歷史上有和平統一的案例嗎？\n",
            " 4/01 https://www.ptt.cc/bbs/Gossiping/M.1743495220.A.514.html [問卦] 貨架底層的東西只能蹲下來拿嗎？\n"
          ]
        }
      ]
    },
    {
      "cell_type": "code",
      "source": [
        "import csv"
      ],
      "metadata": {
        "id": "tBEQveq7ugY7"
      },
      "execution_count": 10,
      "outputs": []
    }
  ]
}