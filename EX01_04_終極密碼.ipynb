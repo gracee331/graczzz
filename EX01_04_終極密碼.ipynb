{
  "nbformat": 4,
  "nbformat_minor": 0,
  "metadata": {
    "colab": {
      "provenance": [],
      "authorship_tag": "ABX9TyMTaIGxFP2BteVug65mFdYv",
      "include_colab_link": true
    },
    "kernelspec": {
      "name": "python3",
      "display_name": "Python 3"
    },
    "language_info": {
      "name": "python"
    }
  },
  "cells": [
    {
      "cell_type": "markdown",
      "metadata": {
        "id": "view-in-github",
        "colab_type": "text"
      },
      "source": [
        "<a href=\"https://colab.research.google.com/github/gracee331/graczzz/blob/main/EX01_04_%E7%B5%82%E6%A5%B5%E5%AF%86%E7%A2%BC.ipynb\" target=\"_parent\"><img src=\"https://colab.research.google.com/assets/colab-badge.svg\" alt=\"Open In Colab\"/></a>"
      ]
    },
    {
      "cell_type": "code",
      "execution_count": 1,
      "metadata": {
        "colab": {
          "base_uri": "https://localhost:8080/"
        },
        "id": "wW02jG-d3j1U",
        "outputId": "8be698f1-a181-4d97-9038-75c62f203f4e"
      },
      "outputs": [
        {
          "output_type": "stream",
          "name": "stdout",
          "text": [
            "0 - 100\n",
            "guess43\n",
            "0 - 43\n",
            "guess22\n",
            "0 - 22\n",
            "guess12\n",
            "0 - 12\n",
            "guess9\n",
            "0 - 9\n",
            "guess5\n",
            "0 - 5\n",
            "guess2\n",
            "0 - 2\n",
            "guess1\n",
            "猜中了\n"
          ]
        }
      ],
      "source": [
        "import random\n",
        "bomb=random.randint(1,99)\n",
        "\n",
        "lf=0\n",
        "rt=100\n",
        "\n",
        "while True:\n",
        "  print(lf,\"-\",rt)\n",
        "  gu=int(input('guess'))\n",
        "  if gu<=lf or gu>=rt:\n",
        "    print('超過範圍')\n",
        "  elif gu<bomb:\n",
        "    lf=gu\n",
        "  elif gu>bomb:\n",
        "    rt=gu\n",
        "  else:\n",
        "    print('猜中了')\n",
        "    break"
      ]
    }
  ]
}