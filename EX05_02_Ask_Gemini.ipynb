{
  "cells": [
    {
      "cell_type": "markdown",
      "metadata": {
        "id": "view-in-github",
        "colab_type": "text"
      },
      "source": [
        "<a href=\"https://colab.research.google.com/github/gracee331/graczzz/blob/main/EX05_02_Ask_Gemini.ipynb\" target=\"_parent\"><img src=\"https://colab.research.google.com/assets/colab-badge.svg\" alt=\"Open In Colab\"/></a>"
      ]
    },
    {
      "cell_type": "code",
      "execution_count": 1,
      "metadata": {
        "colab": {
          "base_uri": "https://localhost:8080/"
        },
        "id": "qB6bh5O2jfCy",
        "outputId": "2524f856-9e33-4067-fb5f-9cce2754defe"
      },
      "outputs": [
        {
          "output_type": "stream",
          "name": "stdout",
          "text": [
            "\u001b[?25l   \u001b[90m━━━━━━━━━━━━━━━━━━━━━━━━━━━━━━━━━━━━━━━━\u001b[0m \u001b[32m0.0/776.1 kB\u001b[0m \u001b[31m?\u001b[0m eta \u001b[36m-:--:--\u001b[0m\r\u001b[2K   \u001b[91m━━━━━━━━━━━━━━━━━━━━━\u001b[0m\u001b[90m╺\u001b[0m\u001b[90m━━━━━━━━━━━━━━━━━━\u001b[0m \u001b[32m409.6/776.1 kB\u001b[0m \u001b[31m13.7 MB/s\u001b[0m eta \u001b[36m0:00:01\u001b[0m\r\u001b[2K   \u001b[90m━━━━━━━━━━━━━━━━━━━━━━━━━━━━━━━━━━━━━━━━\u001b[0m \u001b[32m776.1/776.1 kB\u001b[0m \u001b[31m12.1 MB/s\u001b[0m eta \u001b[36m0:00:00\u001b[0m\n",
            "\u001b[?25h\u001b[?25l   \u001b[90m━━━━━━━━━━━━━━━━━━━━━━━━━━━━━━━━━━━━━━━━\u001b[0m \u001b[32m0.0/165.6 kB\u001b[0m \u001b[31m?\u001b[0m eta \u001b[36m-:--:--\u001b[0m\r\u001b[2K   \u001b[90m━━━━━━━━━━━━━━━━━━━━━━━━━━━━━━━━━━━━━━━━\u001b[0m \u001b[32m165.6/165.6 kB\u001b[0m \u001b[31m6.0 MB/s\u001b[0m eta \u001b[36m0:00:00\u001b[0m\n",
            "\u001b[?25h"
          ]
        }
      ],
      "source": [
        "!pip install -q flask pyngrok flask_ngrok line-bot-sdk"
      ]
    },
    {
      "cell_type": "code",
      "execution_count": 2,
      "metadata": {
        "colab": {
          "base_uri": "https://localhost:8080/"
        },
        "id": "o1hn9UIPjsMF",
        "outputId": "44aa558f-1ea1-4696-beb7-567e3a39a732"
      },
      "outputs": [
        {
          "output_type": "stream",
          "name": "stdout",
          "text": [
            " * Serving Flask app '__main__'\n",
            " * Debug mode: off\n"
          ]
        },
        {
          "output_type": "stream",
          "name": "stderr",
          "text": [
            "INFO:werkzeug:\u001b[31m\u001b[1mWARNING: This is a development server. Do not use it in a production deployment. Use a production WSGI server instead.\u001b[0m\n",
            " * Running on http://127.0.0.1:5000\n",
            "INFO:werkzeug:\u001b[33mPress CTRL+C to quit\u001b[0m\n"
          ]
        },
        {
          "output_type": "stream",
          "name": "stdout",
          "text": [
            " * Running on http://80b2-35-231-217-179.ngrok-free.app\n",
            " * Traffic stats available on http://127.0.0.1:4040\n"
          ]
        }
      ],
      "source": [
        "# for colab\n",
        "from google.colab import userdata\n",
        "from pyngrok import ngrok\n",
        "from flask_ngrok import run_with_ngrok\n",
        "def ngrok_start():\n",
        "  ngrok.set_auth_token(userdata.get('NGROK_AUTHTOKEN'))\n",
        "  ngrok.connect(5000)\n",
        "  run_with_ngrok(app)\n",
        "\n",
        "from flask import Flask, request, abort\n",
        "\n",
        "from linebot.v3 import (\n",
        "    WebhookHandler\n",
        ")\n",
        "from linebot.v3.exceptions import (\n",
        "    InvalidSignatureError\n",
        ")\n",
        "from linebot.v3.messaging import (\n",
        "    Configuration,\n",
        "    ApiClient,\n",
        "    MessagingApi,\n",
        "    ReplyMessageRequest,\n",
        "    TextMessage\n",
        ")\n",
        "from linebot.v3.webhooks import (\n",
        "    MessageEvent,\n",
        "    TextMessageContent\n",
        ")\n",
        "\n",
        "app = Flask(__name__)\n",
        "\n",
        "configuration = Configuration(access_token=userdata.get('LINE_CHANNEL_ACCESS_TOKEN'))\n",
        "handler = WebhookHandler(userdata.get('LINE_CHANNEL_SECRET'))\n",
        "\n",
        "\n",
        "@app.route('/callback', methods=['POST'])\n",
        "def callback():\n",
        "    # get X-Line-Signature header value\n",
        "    signature = request.headers['X-Line-Signature']\n",
        "\n",
        "    # get request body as text\n",
        "    body = request.get_data(as_text=True)  # Line平台傳訊息的內容\n",
        "    app.logger.info(\"Request body: \" + body)\n",
        "\n",
        "    # handle webhook body\n",
        "    try:\n",
        "        handler.handle(body, signature)\n",
        "    except InvalidSignatureError:\n",
        "        app.logger.info(\"Invalid signature. Please check your channel access token/channel secret.\")\n",
        "        abort(400)\n",
        "\n",
        "    return 'OK'\n",
        "\n",
        "\n",
        "\n",
        "import google.generativeai as genai\n",
        "\n",
        "genai.configure(api_key=userdata.get('GOOGLE_API_KEY'))\n",
        "model = genai.GenerativeModel(\"gemini-2.0-flash\")\n",
        "def ask_genai(question):\n",
        "    response = model.generate_content(question)\n",
        "    return response.resultq\n",
        "\n",
        "@handler.add(MessageEvent, message=TextMessageContent)\n",
        "def handle_message(event):\n",
        "  with ApiClient(configuration) as api_client:\n",
        "        line_bot_api = MessagingApi(api_client)\n",
        "        line_bot_api.reply_message_with_http_info(\n",
        "            ReplyMessageRequest(\n",
        "                reply_token=event.reply_token,\n",
        "                messages=[TextSendMessage(text=event.message.text)]\n",
        "            )\n",
        "        )\n",
        "\n",
        "ngrok_start() # for colab\n",
        "if __name__ == '__main__':\n",
        "    app.run()"
      ]
    }
  ],
  "metadata": {
    "colab": {
      "provenance": [],
      "authorship_tag": "ABX9TyNlRgFFM+5kT2z8M+EXdltO",
      "include_colab_link": true
    },
    "kernelspec": {
      "display_name": "Python 3",
      "name": "python3"
    },
    "language_info": {
      "name": "python"
    }
  },
  "nbformat": 4,
  "nbformat_minor": 0
}